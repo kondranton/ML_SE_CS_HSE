{
 "cells": [
  {
   "cell_type": "code",
   "execution_count": null,
   "metadata": {
    "collapsed": true
   },
   "outputs": [],
   "source": [
    "import numpy as np\n",
    "import pylab as pl\n",
    "%matplotlib inline\n",
    "from pybrain.tools.shortcuts import buildNetwork\n",
    "from pybrain.structure import TanhLayer, LinearLayer, SigmoidLayer, SoftmaxLayer\n",
    "from pybrain.datasets import SupervisedDataSet, ClassificationDataSet\n",
    "from pybrain.supervised.trainers import BackpropTrainer\n",
    "from pybrain.structure import FullConnection\n",
    "from pybrain.structure import FeedForwardNetwork\n",
    "from pybrain.tools.validation import ModuleValidator\n",
    "from pybrain.utilities import percentError"
   ]
  },
  {
   "cell_type": "code",
   "execution_count": 26,
   "metadata": {},
   "outputs": [],
   "source": [
    "x_train = np.vstack((np.random.multivariate_normal([1,1,1],np.eye(3)*2,1000), \n",
    "                     np.random.multivariate_normal([-1,-1,-1],np.eye(3)*2,1000)))\n",
    "x_test = np.vstack((np.random.multivariate_normal([1,1,1],np.eye(3)*2,500), \n",
    "                     np.random.multivariate_normal([-1,-1,-1],np.eye(3)*2,500)))\n",
    "y_train = np.vstack((np.ones((1000,1)), np.zeros((1000,1))))\n",
    "y_test = np.vstack((np.ones((500,1)), np.zeros((500,1))))"
   ]
  },
  {
   "cell_type": "code",
   "execution_count": 1,
   "metadata": {
    "collapsed": true
   },
   "outputs": [],
   "source": [
    "def buildDataSet(x_data, y_data):\n",
    "    data = SupervisednDataSet(x_data.shape[1], y_data.shape[1])\n",
    "    for i in xrange(x_data.shape[0]):\n",
    "        data.addSample(x_data[i], y_data[i])\n",
    "    return data"
   ]
  },
  {
   "cell_type": "code",
   "execution_count": 39,
   "metadata": {},
   "outputs": [],
   "source": [
    "train_data = buildDataSet(x_train, y_train)\n",
    "test_data = buildDataSet(x_test, y_test)\n",
    "train_data._convertToOneOfMany( )\n",
    "test_data._convertToOneOfMany( )"
   ]
  },
  {
   "cell_type": "code",
   "execution_count": 43,
   "metadata": {
    "collapsed": true
   },
   "outputs": [],
   "source": [
    "def build_my_net(i,h,o):\n",
    "    inLayer = LinearLayer(i)\n",
    "    hiddenLayer = TanhLayer(h)\n",
    "    outLayer = LinearLayer(o)\n",
    "    \n",
    "    net = FeedForwardNetwork()\n",
    "    net.addInputModule(inLayer)\n",
    "    net.addModule(hiddenLayer)\n",
    "    net.addOutputModule(outLayer)\n",
    "    \n",
    "    in_to_hidden = FullConnection(inLayer, hiddenLayer)\n",
    "    hidden_to_out = FullConnection(hiddenLayer, outLayer)\n",
    "    net.addConnection(in_to_hidden)\n",
    "    net.addConnection(hidden_to_out)\n",
    "    \n",
    "    net.sortModules()\n",
    "    return net"
   ]
  },
  {
   "cell_type": "code",
   "execution_count": 47,
   "metadata": {},
   "outputs": [
    {
     "name": "stdout",
     "output_type": "stream",
     "text": [
      "10.6\n",
      "11.0\n"
     ]
    }
   ],
   "source": [
    "#network = buildNetwork(1, i, 1, hiddenclass=TanhLayer)\n",
    "network = build_my_net(3,20,2)\n",
    "trainer = BackpropTrainer(network, train_data, weightdecay=0.001)\n",
    "trainer.trainEpochs(10)\n",
    "#print ModuleValidator.classificationPerformance(trainer.module, train_data)\n",
    "#print ModuleValidator.classificationPerformance(trainer.module, test_data)\n",
    "print percentError(trainer.testOnClassData(dataset=train_data),train_data['class'])\n",
    "print percentError(trainer.testOnClassData(dataset=test_data),test_data['class'])"
   ]
  }
 ],
 "metadata": {
  "kernelspec": {
   "display_name": "Python 2",
   "language": "python",
   "name": "python2"
  },
  "language_info": {
   "codemirror_mode": {
    "name": "ipython",
    "version": 2
   },
   "file_extension": ".py",
   "mimetype": "text/x-python",
   "name": "python",
   "nbconvert_exporter": "python",
   "pygments_lexer": "ipython2",
   "version": "2.7.10"
  }
 },
 "nbformat": 4,
 "nbformat_minor": 1
}
