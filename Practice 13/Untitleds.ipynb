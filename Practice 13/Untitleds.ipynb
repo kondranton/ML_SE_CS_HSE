{
 "cells": [
  {
   "cell_type": "code",
   "execution_count": 18,
   "metadata": {
    "collapsed": false
   },
   "outputs": [
    {
     "ename": "ImportError",
     "evalue": "cannot import name 'SequentialDataSet'",
     "output_type": "error",
     "traceback": [
      "\u001b[0;31m---------------------------------------------------------------------------\u001b[0m",
      "\u001b[0;31mImportError\u001b[0m                               Traceback (most recent call last)",
      "\u001b[0;32m<ipython-input-18-da1ea7cd54e3>\u001b[0m in \u001b[0;36m<module>\u001b[0;34m()\u001b[0m\n\u001b[1;32m      1\u001b[0m \u001b[0;32mimport\u001b[0m \u001b[0mpybrain\u001b[0m\u001b[0;34m\u001b[0m\u001b[0m\n\u001b[1;32m      2\u001b[0m \u001b[0;32mimport\u001b[0m \u001b[0mnumpy\u001b[0m \u001b[0;32mas\u001b[0m \u001b[0mnp\u001b[0m\u001b[0;34m\u001b[0m\u001b[0m\n\u001b[0;32m----> 3\u001b[0;31m \u001b[0;32mfrom\u001b[0m \u001b[0mpybrain\u001b[0m\u001b[0;34m.\u001b[0m\u001b[0mdatasets\u001b[0m \u001b[0;32mimport\u001b[0m \u001b[0mSupervisedDataSet\u001b[0m\u001b[0;34m\u001b[0m\u001b[0m\n\u001b[0m",
      "\u001b[0;32m/Users/kondranton/anaconda3/lib/python3.5/site-packages/pybrain/datasets/__init__.py\u001b[0m in \u001b[0;36m<module>\u001b[0;34m()\u001b[0m\n\u001b[1;32m      1\u001b[0m \u001b[0;31m# $Id$\u001b[0m\u001b[0;34m\u001b[0m\u001b[0;34m\u001b[0m\u001b[0m\n\u001b[0;32m----> 2\u001b[0;31m \u001b[0;32mfrom\u001b[0m \u001b[0msequential\u001b[0m \u001b[0;32mimport\u001b[0m \u001b[0mSequentialDataSet\u001b[0m\u001b[0;34m\u001b[0m\u001b[0m\n\u001b[0m\u001b[1;32m      3\u001b[0m \u001b[0;32mfrom\u001b[0m \u001b[0msupervised\u001b[0m \u001b[0;32mimport\u001b[0m \u001b[0mSupervisedDataSet\u001b[0m\u001b[0;34m\u001b[0m\u001b[0m\n\u001b[1;32m      4\u001b[0m \u001b[0;32mfrom\u001b[0m \u001b[0munsupervised\u001b[0m \u001b[0;32mimport\u001b[0m \u001b[0mUnsupervisedDataSet\u001b[0m\u001b[0;34m\u001b[0m\u001b[0m\n\u001b[1;32m      5\u001b[0m \u001b[0;32mfrom\u001b[0m \u001b[0mimportance\u001b[0m \u001b[0;32mimport\u001b[0m \u001b[0mImportanceDataSet\u001b[0m\u001b[0;34m\u001b[0m\u001b[0m\n",
      "\u001b[0;31mImportError\u001b[0m: cannot import name 'SequentialDataSet'"
     ]
    }
   ],
   "source": [
    "import pybrain\n",
    "import numpy as np\n",
    "from pybrain.datasets import SupervisedDataSet"
   ]
  },
  {
   "cell_type": "code",
   "execution_count": 19,
   "metadata": {
    "collapsed": true
   },
   "outputs": [],
   "source": [
    "def build_my_net(i,h,o):\n",
    "    inLayer = LinearLayer(i)\n",
    "    hiddenLayer = TanhLayer(h)\n",
    "    outLayer = LinearLayer(o)\n",
    "    \n",
    "    net = FeedForwardNetwork()\n",
    "    net.addInputModule(inLayer)\n",
    "    net.addModule(hiddenLayer)\n",
    "    net.addOutputModule(outLayer)\n",
    "    \n",
    "    in_to_hidden = FullConnection(inLayer, hiddenLayer)\n",
    "    hidden_to_out = FullConnection(hiddenLayer, outLayer)\n",
    "    net.addConnection(in_to_hidden)\n",
    "    net.addConnection(hidden_to_out)\n",
    "    \n",
    "    net.sortModules()\n",
    "    return net"
   ]
  },
  {
   "cell_type": "code",
   "execution_count": 3,
   "metadata": {
    "collapsed": true
   },
   "outputs": [],
   "source": [
    "def buildDataSet(x_data, y_data):\n",
    "    data = ClassificationDataSet(x_data.shape[1], y_data.shape[1])\n",
    "    for i in xrange(x_data.shape[0]):\n",
    "        data.addSample(x_data[i], y_data[i])\n",
    "    return data"
   ]
  },
  {
   "cell_type": "code",
   "execution_count": 7,
   "metadata": {
    "collapsed": false
   },
   "outputs": [
    {
     "data": {
      "text/plain": [
       "array([  1.06771542e+00,  -2.32197998e+00,  -1.27964233e+01, ...,\n",
       "        -3.69846398e-02,   1.81362366e+00,   4.10275607e-03])"
      ]
     },
     "execution_count": 7,
     "metadata": {},
     "output_type": "execute_result"
    }
   ],
   "source": [
    "#2\n",
    "\n",
    "def x3(x):\n",
    "    return x**3\n",
    "\n",
    "\n",
    "set1x = np.random.uniform(-3,2,2000)\n",
    "set2x = np.random.uniform(-3,2,2000)\n",
    "set3x = np.random.uniform(-3,3,2000)\n",
    "\n",
    "set1y = np.apply_along_axis(x3, 0, set1x)\n",
    "set2y = np.apply_along_axis(x3, 0, set2x)\n",
    "set3y = np.apply_along_axis(x3, 0, set3x)\n",
    "\n",
    "set1 = "
   ]
  },
  {
   "cell_type": "code",
   "execution_count": 8,
   "metadata": {
    "collapsed": false
   },
   "outputs": [
    {
     "data": {
      "text/plain": [
       "array([ 1.02208066, -1.32419768, -2.33899629, ..., -0.33317607,\n",
       "        1.21950165,  0.16008792])"
      ]
     },
     "execution_count": 8,
     "metadata": {},
     "output_type": "execute_result"
    }
   ],
   "source": [
    "set1"
   ]
  },
  {
   "cell_type": "code",
   "execution_count": null,
   "metadata": {
    "collapsed": true
   },
   "outputs": [],
   "source": []
  }
 ],
 "metadata": {
  "anaconda-cloud": {},
  "kernelspec": {
   "display_name": "Python [default]",
   "language": "python",
   "name": "python3"
  },
  "language_info": {
   "codemirror_mode": {
    "name": "ipython",
    "version": 3
   },
   "file_extension": ".py",
   "mimetype": "text/x-python",
   "name": "python",
   "nbconvert_exporter": "python",
   "pygments_lexer": "ipython3",
   "version": "3.5.2"
  }
 },
 "nbformat": 4,
 "nbformat_minor": 1
}
