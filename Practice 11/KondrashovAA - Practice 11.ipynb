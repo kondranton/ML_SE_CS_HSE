{
 "cells": [
  {
   "cell_type": "markdown",
   "metadata": {},
   "source": [
    "# Practice №11\n",
    "## by Anton Kondrashov\n",
    "##### HSE, CS, BSE 141(1)"
   ]
  },
  {
   "cell_type": "markdown",
   "metadata": {},
   "source": [
    "### Dependencies"
   ]
  },
  {
   "cell_type": "code",
   "execution_count": 1,
   "metadata": {
    "collapsed": true
   },
   "outputs": [],
   "source": [
    "import sklearn\n",
    "import pandas as pd\n",
    "import numpy as np\n",
    "import codecs\n",
    "import json\n",
    "from sklearn.feature_extraction.text import TfidfVectorizer\n",
    "from sklearn.ensemble import RandomForestRegressor"
   ]
  },
  {
   "cell_type": "markdown",
   "metadata": {},
   "source": [
    "### Datasets"
   ]
  },
  {
   "cell_type": "code",
   "execution_count": 2,
   "metadata": {
    "collapsed": true
   },
   "outputs": [],
   "source": [
    "def unpack_dataset(path, encoding='utf-8'):\n",
    "    dicts = []\n",
    "    with codecs.open(path, 'r', encoding=encoding) as f:\n",
    "        for line in f:\n",
    "            dicts.append(eval(line))\n",
    "    \n",
    "    return pd.DataFrame(dicts)"
   ]
  },
  {
   "cell_type": "code",
   "execution_count": 3,
   "metadata": {
    "collapsed": true,
    "scrolled": false
   },
   "outputs": [],
   "source": [
    "#movie_descriptions = unpack_dataset('/Users/kondranton/Desktop/Datasets/movie_descriptions.txt')\n",
    "#test_feedback = unpack_dataset('/Users/kondranton/Desktop/Datasets/test_feedback.txt', encoding='ISO-8859-1')\n",
    "train_feedback = unpack_dataset('/Users/kirillcherepanov/Downloads/train_feedback.txt', encoding='ISO-8859-1')\n",
    "#test_answers = pd.read_csv('/Users/kondranton/Desktop/Datasets/test_sample_answers.txt')"
   ]
  },
  {
   "cell_type": "markdown",
   "metadata": {},
   "source": [
    "### Get matricies"
   ]
  },
  {
   "cell_type": "code",
   "execution_count": 4,
   "metadata": {
    "collapsed": true
   },
   "outputs": [],
   "source": [
    "vectorizer = TfidfVectorizer(min_df=0.001, stop_words='english')\n",
    "text_matrix = pd.DataFrame(vectorizer.fit_transform(train_feedback['text']).toarray())"
   ]
  },
  {
   "cell_type": "code",
   "execution_count": 5,
   "metadata": {
    "collapsed": true
   },
   "outputs": [],
   "source": [
    "#future_use\n",
    "# train_feedback.drop(['text','summary', 'profileName', 'time'], axis=1, inplace=True)"
   ]
  },
  {
   "cell_type": "code",
   "execution_count": 6,
   "metadata": {
    "collapsed": true
   },
   "outputs": [],
   "source": [
    "#some code is suitable for future use\n",
    "train_feedback = pd.concat([train_feedback['score'], text_matrix], axis=1)\n",
    "\n",
    "train_percentage = 50000/len(train_feedback)\n",
    "mask = np.random.rand(len(train_feedback)) < train_percentage\n",
    "train_set = train_feedback[mask]\n",
    "test_set = train_feedback[~mask]"
   ]
  },
  {
   "cell_type": "code",
   "execution_count": 7,
   "metadata": {
    "collapsed": true
   },
   "outputs": [],
   "source": [
    "train_x = train_set[[x for x in list(train_set.columns) if x != 'score']]\n",
    "train_y = train_set[['score']].as_matrix()\n",
    "test_x = test_set[[x for x in list(train_set.columns) if x != 'score']]\n",
    "test_y = test_set[['score']].as_matrix()"
   ]
  },
  {
   "cell_type": "code",
   "execution_count": 8,
   "metadata": {
    "collapsed": false
   },
   "outputs": [
    {
     "data": {
      "text/plain": [
       "RandomForestRegressor(bootstrap=True, criterion='mse', max_depth=None,\n",
       "           max_features=0.07, max_leaf_nodes=None,\n",
       "           min_impurity_split=1e-07, min_samples_leaf=2,\n",
       "           min_samples_split=2, min_weight_fraction_leaf=0.0,\n",
       "           n_estimators=10, n_jobs=-1, oob_score=False, random_state=None,\n",
       "           verbose=0, warm_start=False)"
      ]
     },
     "execution_count": 8,
     "metadata": {},
     "output_type": "execute_result"
    }
   ],
   "source": [
    "regressor = RandomForestRegressor(n_jobs=-1, **{'max_features': 0.07, 'min_samples_leaf': 2})\n",
    "regressor.fit(train_x, [x[0] for x in train_y])"
   ]
  },
  {
   "cell_type": "code",
   "execution_count": 9,
   "metadata": {
    "collapsed": false
   },
   "outputs": [
    {
     "data": {
      "text/plain": [
       "0.41468425752437954"
      ]
     },
     "execution_count": 9,
     "metadata": {},
     "output_type": "execute_result"
    }
   ],
   "source": [
    "regressor.score(test_x, [x[0] for x in test_y])"
   ]
  },
  {
   "cell_type": "code",
   "execution_count": 11,
   "metadata": {
    "collapsed": false
   },
   "outputs": [
    {
     "data": {
      "text/plain": [
       "array([  4.71566262e-05,   2.78644785e-06,   0.00000000e+00,\n",
       "         4.80993097e-04,   2.06751336e-04,   1.07450118e-05,\n",
       "         0.00000000e+00,   1.23888952e-05,   6.40116658e-05])"
      ]
     },
     "execution_count": 11,
     "metadata": {},
     "output_type": "execute_result"
    }
   ],
   "source": [
    "regressor.feature_importances_[:9]"
   ]
  },
  {
   "cell_type": "code",
   "execution_count": 18,
   "metadata": {
    "collapsed": true
   },
   "outputs": [],
   "source": [
    "importances = pd.concat([pd.DataFrame(train_x.columns), pd.DataFrame(regressor.feature_importances_)], axis=1)"
   ]
  },
  {
   "cell_type": "code",
   "execution_count": 30,
   "metadata": {
    "collapsed": true
   },
   "outputs": [],
   "source": [
    "importances.columns = ['feat', 'import']\n",
    "important_indexes = importances.sort_values('import', ascending=False)[:9]['feat'].as_matrix()"
   ]
  },
  {
   "cell_type": "code",
   "execution_count": 31,
   "metadata": {
    "collapsed": false
   },
   "outputs": [
    {
     "data": {
      "text/plain": [
       "['worst',\n",
       " 'waste',\n",
       " 'bad',\n",
       " 'great',\n",
       " 'boring',\n",
       " 'best',\n",
       " 'stupid',\n",
       " 'terrible',\n",
       " 'money']"
      ]
     },
     "execution_count": 31,
     "metadata": {},
     "output_type": "execute_result"
    }
   ],
   "source": [
    "names = vectorizer.get_feature_names()\n",
    "[names[i] for i in important_indexes]"
   ]
  },
  {
   "cell_type": "markdown",
   "metadata": {},
   "source": [
    "### Conclusion\n",
    "\n",
    "As we can see, these words have the most significant impact on a review score. The words express someone's opinion, so they can be intepreted as a movie empirical score. "
   ]
  },
  {
   "cell_type": "code",
   "execution_count": null,
   "metadata": {
    "collapsed": true
   },
   "outputs": [],
   "source": []
  }
 ],
 "metadata": {
  "anaconda-cloud": {},
  "kernelspec": {
   "display_name": "Python [default]",
   "language": "python",
   "name": "python3"
  },
  "language_info": {
   "codemirror_mode": {
    "name": "ipython",
    "version": 3
   },
   "file_extension": ".py",
   "mimetype": "text/x-python",
   "name": "python",
   "nbconvert_exporter": "python",
   "pygments_lexer": "ipython3",
   "version": "3.5.2"
  }
 },
 "nbformat": 4,
 "nbformat_minor": 1
}
