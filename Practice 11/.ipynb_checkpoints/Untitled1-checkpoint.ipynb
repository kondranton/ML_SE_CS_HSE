{
 "cells": [
  {
   "cell_type": "markdown",
   "metadata": {},
   "source": [
    "### Dependencies"
   ]
  },
  {
   "cell_type": "code",
   "execution_count": 1,
   "metadata": {
    "collapsed": false
   },
   "outputs": [],
   "source": [
    "import sklearn\n",
    "import pandas as pd\n",
    "import numpy as np\n",
    "import codecs\n",
    "import json\n",
    "from sklearn.feature_extraction.text import TfidfVectorizer\n",
    "from sklearn.ensemble import RandomForestRegressor"
   ]
  },
  {
   "cell_type": "markdown",
   "metadata": {},
   "source": [
    "### Datasets"
   ]
  },
  {
   "cell_type": "code",
   "execution_count": 2,
   "metadata": {
    "collapsed": true
   },
   "outputs": [],
   "source": [
    "def unpack_dataset(path, encoding='utf-8'):\n",
    "    dicts = []\n",
    "    with codecs.open(path, 'r', encoding=encoding) as f:\n",
    "        for line in f:\n",
    "            dicts.append(eval(line))\n",
    "    \n",
    "    return pd.DataFrame(dicts)"
   ]
  },
  {
   "cell_type": "code",
   "execution_count": 3,
   "metadata": {
    "collapsed": false,
    "scrolled": false
   },
   "outputs": [],
   "source": [
    "movie_descriptions = unpack_dataset('/Users/kondranton/Desktop/Datasets/movie_descriptions.txt')\n",
    "test_feedback = unpack_dataset('/Users/kondranton/Desktop/Datasets/test_feedback.txt', encoding='ISO-8859-1')\n",
    "train_feedback = unpack_dataset('/Users/kondranton/Desktop/Datasets/train_feedback.txt', encoding='ISO-8859-1')\n",
    "test_answers = pd.read_csv('/Users/kondranton/Desktop/Datasets/test_sample_answers.txt')"
   ]
  },
  {
   "cell_type": "markdown",
   "metadata": {},
   "source": [
    "### Get matricies"
   ]
  },
  {
   "cell_type": "code",
   "execution_count": 4,
   "metadata": {
    "collapsed": false
   },
   "outputs": [],
   "source": [
    "vectorizer = TfidfVectorizer(min_df=15, stop_words='english')\n",
    "text_matrix = pd.DataFrame(vectorizer.fit_transform(train_feedback['text']).toarray())"
   ]
  },
  {
   "cell_type": "code",
   "execution_count": null,
   "metadata": {
    "collapsed": false
   },
   "outputs": [],
   "source": [
    "#future_use\n",
    "# train_feedback.drop(['text','summary', 'profileName', 'time'], axis=1, inplace=True)"
   ]
  },
  {
   "cell_type": "code",
   "execution_count": null,
   "metadata": {
    "collapsed": false
   },
   "outputs": [],
   "source": [
    "#some code is suitable for future use\n",
    "train_feedback = pd.concat([train_feedback['score'], text_matrix], axis=1)\n",
    "\n",
    "train_percentage = 50000/len(train_feedback)\n",
    "mask = np.random.rand(len(train_feedback)) < train_percentage\n",
    "train_set = train_feedback[mask]\n",
    "test_set = train_feedback[~mask]"
   ]
  },
  {
   "cell_type": "code",
   "execution_count": null,
   "metadata": {
    "collapsed": true
   },
   "outputs": [],
   "source": [
    "train_x = train_set[[x for x in list(train_set.columns) if x != 'score']]\n",
    "train_y = train_set[['score']].as_matrix()\n",
    "test_x = test_set[[x for x in list(train_set.columns) if x != 'score']]\n",
    "test_y = test_set[['score']].as_matrix()"
   ]
  },
  {
   "cell_type": "code",
   "execution_count": null,
   "metadata": {
    "collapsed": true
   },
   "outputs": [],
   "source": [
    "regressor = RandomForestRegressor()\n",
    "regressor.fit(train_x, train_y)"
   ]
  },
  {
   "cell_type": "code",
   "execution_count": null,
   "metadata": {
    "collapsed": false
   },
   "outputs": [],
   "source": []
  },
  {
   "cell_type": "code",
   "execution_count": null,
   "metadata": {
    "collapsed": false
   },
   "outputs": [],
   "source": []
  },
  {
   "cell_type": "code",
   "execution_count": null,
   "metadata": {
    "collapsed": true
   },
   "outputs": [],
   "source": []
  }
 ],
 "metadata": {
  "anaconda-cloud": {},
  "kernelspec": {
   "display_name": "Python [default]",
   "language": "python",
   "name": "python3"
  },
  "language_info": {
   "codemirror_mode": {
    "name": "ipython",
    "version": 3
   },
   "file_extension": ".py",
   "mimetype": "text/x-python",
   "name": "python",
   "nbconvert_exporter": "python",
   "pygments_lexer": "ipython3",
   "version": "3.5.2"
  }
 },
 "nbformat": 4,
 "nbformat_minor": 1
}
