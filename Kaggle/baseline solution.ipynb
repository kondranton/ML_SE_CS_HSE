{
 "cells": [
  {
   "cell_type": "code",
   "execution_count": 1,
   "metadata": {
    "collapsed": false
   },
   "outputs": [
    {
     "name": "stdout",
     "output_type": "stream",
     "text": [
      "Populating the interactive namespace from numpy and matplotlib\n"
     ]
    }
   ],
   "source": [
    "%pylab inline\n",
    "%precision 6\n",
    "%load_ext line_profiler\n",
    "%load_ext autoreload\n",
    "%autoreload 1"
   ]
  },
  {
   "cell_type": "code",
   "execution_count": 2,
   "metadata": {
    "collapsed": false
   },
   "outputs": [],
   "source": [
    "import pandas as pd\n",
    "import sklearn as skl"
   ]
  },
  {
   "cell_type": "code",
   "execution_count": 3,
   "metadata": {
    "collapsed": true
   },
   "outputs": [],
   "source": [
    "pd.options.display.max_colwidth=100\n",
    "np.set_printoptions(linewidth=140,edgeitems=10)\n",
    "pd.set_option('display.max_rows', 500)\n",
    "pd.set_option('display.max_columns', 500)\n",
    "pd.set_option('display.width', 1000)\n",
    "rcParams['figure.figsize'] = (8.0, 5.0)"
   ]
  },
  {
   "cell_type": "code",
   "execution_count": 4,
   "metadata": {
    "collapsed": false
   },
   "outputs": [],
   "source": [
    "feedbacks=[]\n",
    "\n",
    "with open('train_feedback.txt') as f:\n",
    "    for line in f:\n",
    "        feedback = eval(line)\n",
    "        feedbacks.append(feedback)"
   ]
  },
  {
   "cell_type": "code",
   "execution_count": 5,
   "metadata": {
    "collapsed": false
   },
   "outputs": [],
   "source": [
    "with open('test_feedback.txt') as f:\n",
    "    for line in f:\n",
    "        feedback = eval(line)\n",
    "        feedbacks.append(feedback)"
   ]
  },
  {
   "cell_type": "code",
   "execution_count": 6,
   "metadata": {
    "collapsed": false
   },
   "outputs": [
    {
     "data": {
      "text/plain": [
       "133906"
      ]
     },
     "execution_count": 6,
     "metadata": {},
     "output_type": "execute_result"
    }
   ],
   "source": [
    "len(feedbacks)"
   ]
  },
  {
   "cell_type": "code",
   "execution_count": 7,
   "metadata": {
    "collapsed": false
   },
   "outputs": [],
   "source": [
    "feedbacks = pd.DataFrame(feedbacks)"
   ]
  },
  {
   "cell_type": "code",
   "execution_count": 8,
   "metadata": {
    "collapsed": false
   },
   "outputs": [
    {
     "data": {
      "text/html": [
       "<div>\n",
       "<table border=\"1\" class=\"dataframe\">\n",
       "  <thead>\n",
       "    <tr style=\"text-align: right;\">\n",
       "      <th></th>\n",
       "      <th>MovieId</th>\n",
       "      <th>UserId</th>\n",
       "      <th>id</th>\n",
       "      <th>profileName</th>\n",
       "      <th>score</th>\n",
       "      <th>summary</th>\n",
       "      <th>text</th>\n",
       "      <th>time</th>\n",
       "    </tr>\n",
       "  </thead>\n",
       "  <tbody>\n",
       "    <tr>\n",
       "      <th>0</th>\n",
       "      <td>4043</td>\n",
       "      <td>7022</td>\n",
       "      <td>15082</td>\n",
       "      <td>Jon Stevens \"Journalist\"</td>\n",
       "      <td>4</td>\n",
       "      <td>Great action film</td>\n",
       "      <td>This is one of my all time favorite American action films inspired by the Japanese Blind Samurai...</td>\n",
       "      <td>2010-09-04 03:00:00</td>\n",
       "    </tr>\n",
       "    <tr>\n",
       "      <th>1</th>\n",
       "      <td>2347</td>\n",
       "      <td>2996</td>\n",
       "      <td>108021</td>\n",
       "      <td>Michelle Sutton</td>\n",
       "      <td>5</td>\n",
       "      <td>Movie is way better than the book!</td>\n",
       "      <td>First, I have to say I'm incredibly biased toward the movie because I think Eric Bana is the mos...</td>\n",
       "      <td>2011-01-08 03:00:00</td>\n",
       "    </tr>\n",
       "    <tr>\n",
       "      <th>2</th>\n",
       "      <td>89</td>\n",
       "      <td>795</td>\n",
       "      <td>118483</td>\n",
       "      <td>Jay Chen</td>\n",
       "      <td>4</td>\n",
       "      <td>A very good film that could have been great</td>\n",
       "      <td>The Abyss is one of those movies you can watch again and again.  It's a top notch film.&lt;br /&gt;&lt;br...</td>\n",
       "      <td>2011-06-25 03:00:00</td>\n",
       "    </tr>\n",
       "  </tbody>\n",
       "</table>\n",
       "</div>"
      ],
      "text/plain": [
       "   MovieId  UserId      id               profileName  score                                      summary                                                                                                 text                 time\n",
       "0     4043    7022   15082  Jon Stevens \"Journalist\"      4                            Great action film  This is one of my all time favorite American action films inspired by the Japanese Blind Samurai...  2010-09-04 03:00:00\n",
       "1     2347    2996  108021           Michelle Sutton      5           Movie is way better than the book!  First, I have to say I'm incredibly biased toward the movie because I think Eric Bana is the mos...  2011-01-08 03:00:00\n",
       "2       89     795  118483                  Jay Chen      4  A very good film that could have been great  The Abyss is one of those movies you can watch again and again.  It's a top notch film.<br /><br...  2011-06-25 03:00:00"
      ]
     },
     "execution_count": 8,
     "metadata": {},
     "output_type": "execute_result"
    }
   ],
   "source": [
    "feedbacks.head(3)"
   ]
  },
  {
   "cell_type": "code",
   "execution_count": 9,
   "metadata": {
    "collapsed": false
   },
   "outputs": [],
   "source": [
    "with open('movie_descriptions.txt', encoding='utf-8') as f:   # python 3 syntax here\n",
    "    descriptions=[]\n",
    "    for line in f:\n",
    "        description = eval(line)\n",
    "        descriptions.append(description)"
   ]
  },
  {
   "cell_type": "code",
   "execution_count": 10,
   "metadata": {
    "collapsed": true
   },
   "outputs": [],
   "source": [
    "descriptions=pd.DataFrame(descriptions)"
   ]
  },
  {
   "cell_type": "code",
   "execution_count": 11,
   "metadata": {
    "collapsed": false,
    "scrolled": true
   },
   "outputs": [
    {
     "data": {
      "text/html": [
       "<div>\n",
       "<table border=\"1\" class=\"dataframe\">\n",
       "  <thead>\n",
       "    <tr style=\"text-align: right;\">\n",
       "      <th></th>\n",
       "      <th>MovieId</th>\n",
       "      <th>actors</th>\n",
       "      <th>awards</th>\n",
       "      <th>country</th>\n",
       "      <th>director</th>\n",
       "      <th>genre</th>\n",
       "      <th>language</th>\n",
       "      <th>plot</th>\n",
       "      <th>rated</th>\n",
       "      <th>released</th>\n",
       "      <th>runtime</th>\n",
       "      <th>synopsis</th>\n",
       "      <th>type</th>\n",
       "      <th>writer</th>\n",
       "      <th>year</th>\n",
       "    </tr>\n",
       "  </thead>\n",
       "  <tbody>\n",
       "    <tr>\n",
       "      <th>0</th>\n",
       "      <td>790</td>\n",
       "      <td>Jimmy Smits, Marg Helgenberger, John Ashton, Allyce Beasley</td>\n",
       "      <td>N/A</td>\n",
       "      <td>USA, New Zealand</td>\n",
       "      <td>N/A</td>\n",
       "      <td>Horror, Sci-Fi</td>\n",
       "      <td>English</td>\n",
       "      <td>A buried UFO slowly turns local inhabitants into gizmo-building alien mutants.</td>\n",
       "      <td>R</td>\n",
       "      <td>09 May 1993</td>\n",
       "      <td>181 min</td>\n",
       "      <td>\\n\\nPart OneBobbi Anderson (Marg Helgenberger), a Western fiction writer, and her boyfriend, Jim...</td>\n",
       "      <td>series</td>\n",
       "      <td>N/A</td>\n",
       "      <td>1993</td>\n",
       "    </tr>\n",
       "    <tr>\n",
       "      <th>1</th>\n",
       "      <td>4034</td>\n",
       "      <td>Spencer Tracy, Sidney Poitier, Katharine Hepburn, Katharine Houghton</td>\n",
       "      <td>Won 2 Oscars. Another 7 wins &amp; 22 nominations.</td>\n",
       "      <td>USA</td>\n",
       "      <td>Stanley Kramer</td>\n",
       "      <td>Comedy, Drama</td>\n",
       "      <td>English</td>\n",
       "      <td>After a period of vacation in Hawaii, Joanna &amp;quot;Joey&amp;quot; Drayton returns to her parents' ho...</td>\n",
       "      <td>UNRATED</td>\n",
       "      <td>12 Dec 1967</td>\n",
       "      <td>108 min</td>\n",
       "      <td>\\n\\nThe movie concerns Joanna Drayton, a young white American woman (Houghton) and a man with wh...</td>\n",
       "      <td>movie</td>\n",
       "      <td>William Rose</td>\n",
       "      <td>1967</td>\n",
       "    </tr>\n",
       "    <tr>\n",
       "      <th>2</th>\n",
       "      <td>2465</td>\n",
       "      <td>Tom Hanks, Leslie Zemeckis, Eddie Deezen, Nona Gaye</td>\n",
       "      <td>Nominated for 3 Oscars. Another 5 wins &amp; 22 nominations.</td>\n",
       "      <td>USA</td>\n",
       "      <td>Robert Zemeckis</td>\n",
       "      <td>Animation, Adventure, Family</td>\n",
       "      <td>English</td>\n",
       "      <td>This is the story of a young hero boy on Christmas Eve who boards on a powerful magical train th...</td>\n",
       "      <td>G</td>\n",
       "      <td>10 Nov 2004</td>\n",
       "      <td>100 min</td>\n",
       "      <td>\\n\\nTom Hanks plays the train conductor of a magical train heading for the North Pole, in additi...</td>\n",
       "      <td>movie</td>\n",
       "      <td>Chris Van Allsburg (book), Robert Zemeckis (screenplay), William Broyles Jr. (screenplay)</td>\n",
       "      <td>2004</td>\n",
       "    </tr>\n",
       "  </tbody>\n",
       "</table>\n",
       "</div>"
      ],
      "text/plain": [
       "   MovieId                                                                actors                                                    awards           country         director                         genre language                                                                                                 plot    rated     released  runtime                                                                                             synopsis    type                                                                                     writer  year\n",
       "0      790           Jimmy Smits, Marg Helgenberger, John Ashton, Allyce Beasley                                                       N/A  USA, New Zealand              N/A                Horror, Sci-Fi  English                       A buried UFO slowly turns local inhabitants into gizmo-building alien mutants.        R  09 May 1993  181 min  \\n\\nPart OneBobbi Anderson (Marg Helgenberger), a Western fiction writer, and her boyfriend, Jim...  series                                                                                        N/A  1993\n",
       "1     4034  Spencer Tracy, Sidney Poitier, Katharine Hepburn, Katharine Houghton            Won 2 Oscars. Another 7 wins & 22 nominations.               USA   Stanley Kramer                 Comedy, Drama  English  After a period of vacation in Hawaii, Joanna &quot;Joey&quot; Drayton returns to her parents' ho...  UNRATED  12 Dec 1967  108 min  \\n\\nThe movie concerns Joanna Drayton, a young white American woman (Houghton) and a man with wh...   movie                                                                               William Rose  1967\n",
       "2     2465                   Tom Hanks, Leslie Zemeckis, Eddie Deezen, Nona Gaye  Nominated for 3 Oscars. Another 5 wins & 22 nominations.               USA  Robert Zemeckis  Animation, Adventure, Family  English  This is the story of a young hero boy on Christmas Eve who boards on a powerful magical train th...        G  10 Nov 2004  100 min  \\n\\nTom Hanks plays the train conductor of a magical train heading for the North Pole, in additi...   movie  Chris Van Allsburg (book), Robert Zemeckis (screenplay), William Broyles Jr. (screenplay)  2004"
      ]
     },
     "execution_count": 11,
     "metadata": {},
     "output_type": "execute_result"
    }
   ],
   "source": [
    "descriptions.head(3)"
   ]
  },
  {
   "cell_type": "code",
   "execution_count": 12,
   "metadata": {
    "collapsed": true
   },
   "outputs": [],
   "source": [
    "Z=pd.merge(feedbacks,descriptions,on='MovieId')"
   ]
  },
  {
   "cell_type": "code",
   "execution_count": 13,
   "metadata": {
    "collapsed": false
   },
   "outputs": [
    {
     "data": {
      "text/plain": [
       "133906"
      ]
     },
     "execution_count": 13,
     "metadata": {},
     "output_type": "execute_result"
    }
   ],
   "source": [
    "len(Z)"
   ]
  },
  {
   "cell_type": "code",
   "execution_count": 14,
   "metadata": {
    "collapsed": false
   },
   "outputs": [],
   "source": [
    "np.random.seed(0)\n",
    "Z = Z.sample(frac=1.0).reset_index(drop=True)"
   ]
  },
  {
   "cell_type": "code",
   "execution_count": 15,
   "metadata": {
    "collapsed": false
   },
   "outputs": [
    {
     "data": {
      "text/html": [
       "<div>\n",
       "<table border=\"1\" class=\"dataframe\">\n",
       "  <thead>\n",
       "    <tr style=\"text-align: right;\">\n",
       "      <th></th>\n",
       "      <th>MovieId</th>\n",
       "      <th>UserId</th>\n",
       "      <th>id</th>\n",
       "      <th>profileName</th>\n",
       "      <th>score</th>\n",
       "      <th>summary</th>\n",
       "      <th>text</th>\n",
       "      <th>time</th>\n",
       "      <th>actors</th>\n",
       "      <th>awards</th>\n",
       "      <th>country</th>\n",
       "      <th>director</th>\n",
       "      <th>genre</th>\n",
       "      <th>language</th>\n",
       "      <th>plot</th>\n",
       "      <th>rated</th>\n",
       "      <th>released</th>\n",
       "      <th>runtime</th>\n",
       "      <th>synopsis</th>\n",
       "      <th>type</th>\n",
       "      <th>writer</th>\n",
       "      <th>year</th>\n",
       "    </tr>\n",
       "  </thead>\n",
       "  <tbody>\n",
       "    <tr>\n",
       "      <th>0</th>\n",
       "      <td>1746</td>\n",
       "      <td>6282</td>\n",
       "      <td>59852</td>\n",
       "      <td>joe espi \"latinlover\"</td>\n",
       "      <td>5</td>\n",
       "      <td>good quality on the kuro as usual but grainy on the panasonic</td>\n",
       "      <td>great movie but a bit grainy.  Cant really complain on the kuro since everything looks great on ...</td>\n",
       "      <td>2011-06-28 03:00:00</td>\n",
       "      <td>Ken Leung, Jackie Chan, Tom Wilkinson, Tzi Ma</td>\n",
       "      <td>6 wins &amp; 8 nominations.</td>\n",
       "      <td>USA</td>\n",
       "      <td>Brett Ratner</td>\n",
       "      <td>Action, Comedy, Crime</td>\n",
       "      <td>English, Cantonese, Mandarin</td>\n",
       "      <td>Cultures clash and tempers flares as the two cops named Detective Inspector Lee a Hong Kong Dete...</td>\n",
       "      <td>PG-13</td>\n",
       "      <td>18 Sep 1998</td>\n",
       "      <td>98 min</td>\n",
       "      <td>\\n\\nWhen kidnappers grab a Chinese official's daughter, Hong Kong chief inspector Lee (Chan) is ...</td>\n",
       "      <td>movie</td>\n",
       "      <td>Ross LaManna (story), Jim Kouf (screenplay), Ross LaManna (screenplay)</td>\n",
       "      <td>1998</td>\n",
       "    </tr>\n",
       "    <tr>\n",
       "      <th>1</th>\n",
       "      <td>290</td>\n",
       "      <td>9590</td>\n",
       "      <td>99293</td>\n",
       "      <td>R. Sardrena</td>\n",
       "      <td>4</td>\n",
       "      <td>A forgotten little gem</td>\n",
       "      <td>This Blake Edwards comedy is a wonderful little farce featuring an excellent cast.  It may be a ...</td>\n",
       "      <td>2007-08-02 03:00:00</td>\n",
       "      <td>Jack Lemmon, Tony Curtis, Natalie Wood, Peter Falk</td>\n",
       "      <td>Won 1 Oscar. Another 1 win &amp; 14 nominations.</td>\n",
       "      <td>USA</td>\n",
       "      <td>Blake Edwards</td>\n",
       "      <td>Action, Adventure, Comedy</td>\n",
       "      <td>English</td>\n",
       "      <td>Professional daredevil and white-suited hero, The Great Leslie, convinces turn-of-the-century au...</td>\n",
       "      <td>APPROVED</td>\n",
       "      <td>01 Jul 1965</td>\n",
       "      <td>160 min</td>\n",
       "      <td>\\n\\nTony Curtis and Jack Lemmon are reunited again, this time with Blake Edwards at the wheel of...</td>\n",
       "      <td>movie</td>\n",
       "      <td>Arthur A. Ross (screenplay), Blake Edwards (original story), Arthur A. Ross (original story)</td>\n",
       "      <td>1965</td>\n",
       "    </tr>\n",
       "    <tr>\n",
       "      <th>2</th>\n",
       "      <td>340</td>\n",
       "      <td>13470</td>\n",
       "      <td>130797</td>\n",
       "      <td>Peter J. Miller \"Peter J. Miller\"</td>\n",
       "      <td>4</td>\n",
       "      <td>Powerful Adventure Film</td>\n",
       "      <td>I don't really like outdoor adventure movies very much but have to say that The Edge is quite po...</td>\n",
       "      <td>2011-11-13 03:00:00</td>\n",
       "      <td>Anthony Hopkins, Alec Baldwin, Elle Macpherson, Harold Perrineau</td>\n",
       "      <td>N/A</td>\n",
       "      <td>USA</td>\n",
       "      <td>Lee Tamahori</td>\n",
       "      <td>Action, Adventure, Drama</td>\n",
       "      <td>English</td>\n",
       "      <td>An intellectual billionaire and two lesser men struggle to band together and survive after getti...</td>\n",
       "      <td>R</td>\n",
       "      <td>26 Sep 1997</td>\n",
       "      <td>117 min</td>\n",
       "      <td>\\n\\nCharles Morse (Anthony Hopkins), a billionaire, and two other men, Robert \"Bob\" Green (Alec ...</td>\n",
       "      <td>movie</td>\n",
       "      <td>David Mamet</td>\n",
       "      <td>1997</td>\n",
       "    </tr>\n",
       "  </tbody>\n",
       "</table>\n",
       "</div>"
      ],
      "text/plain": [
       "   MovieId  UserId      id                        profileName  score                                                        summary                                                                                                 text                 time                                                            actors                                        awards country       director                      genre                      language                                                                                                 plot     rated     released  runtime                                                                                             synopsis   type                                                                                        writer  year\n",
       "0     1746    6282   59852              joe espi \"latinlover\"      5  good quality on the kuro as usual but grainy on the panasonic  great movie but a bit grainy.  Cant really complain on the kuro since everything looks great on ...  2011-06-28 03:00:00                     Ken Leung, Jackie Chan, Tom Wilkinson, Tzi Ma                       6 wins & 8 nominations.     USA   Brett Ratner      Action, Comedy, Crime  English, Cantonese, Mandarin  Cultures clash and tempers flares as the two cops named Detective Inspector Lee a Hong Kong Dete...     PG-13  18 Sep 1998   98 min  \\n\\nWhen kidnappers grab a Chinese official's daughter, Hong Kong chief inspector Lee (Chan) is ...  movie                        Ross LaManna (story), Jim Kouf (screenplay), Ross LaManna (screenplay)  1998\n",
       "1      290    9590   99293                        R. Sardrena      4                                         A forgotten little gem  This Blake Edwards comedy is a wonderful little farce featuring an excellent cast.  It may be a ...  2007-08-02 03:00:00                Jack Lemmon, Tony Curtis, Natalie Wood, Peter Falk  Won 1 Oscar. Another 1 win & 14 nominations.     USA  Blake Edwards  Action, Adventure, Comedy                       English  Professional daredevil and white-suited hero, The Great Leslie, convinces turn-of-the-century au...  APPROVED  01 Jul 1965  160 min  \\n\\nTony Curtis and Jack Lemmon are reunited again, this time with Blake Edwards at the wheel of...  movie  Arthur A. Ross (screenplay), Blake Edwards (original story), Arthur A. Ross (original story)  1965\n",
       "2      340   13470  130797  Peter J. Miller \"Peter J. Miller\"      4                                        Powerful Adventure Film  I don't really like outdoor adventure movies very much but have to say that The Edge is quite po...  2011-11-13 03:00:00  Anthony Hopkins, Alec Baldwin, Elle Macpherson, Harold Perrineau                                           N/A     USA   Lee Tamahori   Action, Adventure, Drama                       English  An intellectual billionaire and two lesser men struggle to band together and survive after getti...         R  26 Sep 1997  117 min  \\n\\nCharles Morse (Anthony Hopkins), a billionaire, and two other men, Robert \"Bob\" Green (Alec ...  movie                                                                                   David Mamet  1997"
      ]
     },
     "execution_count": 15,
     "metadata": {},
     "output_type": "execute_result"
    }
   ],
   "source": [
    "Z.head(3)"
   ]
  },
  {
   "cell_type": "code",
   "execution_count": 16,
   "metadata": {
    "collapsed": true
   },
   "outputs": [],
   "source": [
    "Z.rename(columns={'score':'y'}, inplace=True)"
   ]
  },
  {
   "cell_type": "code",
   "execution_count": 17,
   "metadata": {
    "collapsed": false
   },
   "outputs": [
    {
     "data": {
      "text/plain": [
       "0          5\n",
       "1          4\n",
       "2          4\n",
       "3        NaN\n",
       "4          3\n",
       "5        NaN\n",
       "6          1\n",
       "7        NaN\n",
       "8          5\n",
       "9          5\n",
       "10       NaN\n",
       "11         5\n",
       "12       NaN\n",
       "13         5\n",
       "14       NaN\n",
       "15       NaN\n",
       "16         5\n",
       "17         4\n",
       "18       NaN\n",
       "19         4\n",
       "20         5\n",
       "21         4\n",
       "22         4\n",
       "23       NaN\n",
       "24       NaN\n",
       "25         3\n",
       "26       NaN\n",
       "27       NaN\n",
       "28       NaN\n",
       "29         4\n",
       "30         3\n",
       "31         5\n",
       "32         4\n",
       "33         5\n",
       "34       NaN\n",
       "35       NaN\n",
       "36         1\n",
       "37         5\n",
       "38       NaN\n",
       "39       NaN\n",
       "40         5\n",
       "41       NaN\n",
       "42       NaN\n",
       "43         5\n",
       "44         5\n",
       "45       NaN\n",
       "46       NaN\n",
       "47       NaN\n",
       "48       NaN\n",
       "49       NaN\n",
       "50       NaN\n",
       "51         2\n",
       "52       NaN\n",
       "53         5\n",
       "54       NaN\n",
       "55       NaN\n",
       "56       NaN\n",
       "57         2\n",
       "58       NaN\n",
       "59         4\n",
       "60       NaN\n",
       "61         5\n",
       "62         4\n",
       "63       NaN\n",
       "64       NaN\n",
       "65       NaN\n",
       "66         4\n",
       "67         5\n",
       "68         5\n",
       "69         4\n",
       "70       NaN\n",
       "71       NaN\n",
       "72       NaN\n",
       "73         5\n",
       "74       NaN\n",
       "75         5\n",
       "76       NaN\n",
       "77       NaN\n",
       "78       NaN\n",
       "79       NaN\n",
       "80         4\n",
       "81         3\n",
       "82         5\n",
       "83       NaN\n",
       "84         4\n",
       "85         3\n",
       "86       NaN\n",
       "87         5\n",
       "88         5\n",
       "89       NaN\n",
       "90         5\n",
       "91         1\n",
       "92       NaN\n",
       "93         3\n",
       "94         5\n",
       "95         4\n",
       "96       NaN\n",
       "97         4\n",
       "98       NaN\n",
       "99       NaN\n",
       "100      NaN\n",
       "101      NaN\n",
       "102        5\n",
       "103        5\n",
       "104        5\n",
       "105        4\n",
       "106        5\n",
       "107      NaN\n",
       "108        4\n",
       "109        5\n",
       "110        4\n",
       "111      NaN\n",
       "112      NaN\n",
       "113        3\n",
       "114        5\n",
       "115      NaN\n",
       "116      NaN\n",
       "117      NaN\n",
       "118        3\n",
       "119        2\n",
       "120      NaN\n",
       "121      NaN\n",
       "122      NaN\n",
       "123        5\n",
       "124        1\n",
       "125      NaN\n",
       "126        2\n",
       "127        4\n",
       "128        5\n",
       "129        1\n",
       "130        4\n",
       "131      NaN\n",
       "132      NaN\n",
       "133      NaN\n",
       "134      NaN\n",
       "135      NaN\n",
       "136        4\n",
       "137        1\n",
       "138      NaN\n",
       "139        1\n",
       "140        5\n",
       "141      NaN\n",
       "142        5\n",
       "143        5\n",
       "144        5\n",
       "145      NaN\n",
       "146      NaN\n",
       "147        5\n",
       "148        5\n",
       "149        5\n",
       "150        4\n",
       "151      NaN\n",
       "152        4\n",
       "153        5\n",
       "154      NaN\n",
       "155      NaN\n",
       "156      NaN\n",
       "157        5\n",
       "158        3\n",
       "159        4\n",
       "160        5\n",
       "161      NaN\n",
       "162        5\n",
       "163        5\n",
       "164        5\n",
       "165        3\n",
       "166        1\n",
       "167      NaN\n",
       "168        4\n",
       "169        4\n",
       "170        4\n",
       "171        2\n",
       "172      NaN\n",
       "173      NaN\n",
       "174        4\n",
       "175        5\n",
       "176      NaN\n",
       "177        5\n",
       "178        5\n",
       "179        1\n",
       "180        5\n",
       "181        5\n",
       "182        5\n",
       "183        5\n",
       "184      NaN\n",
       "185        5\n",
       "186      NaN\n",
       "187      NaN\n",
       "188      NaN\n",
       "189        5\n",
       "190      NaN\n",
       "191        3\n",
       "192      NaN\n",
       "193        5\n",
       "194        2\n",
       "195      NaN\n",
       "196      NaN\n",
       "197      NaN\n",
       "198      NaN\n",
       "199        5\n",
       "200        5\n",
       "201      NaN\n",
       "202      NaN\n",
       "203        5\n",
       "204        5\n",
       "205      NaN\n",
       "206      NaN\n",
       "207        5\n",
       "208        5\n",
       "209        5\n",
       "210        4\n",
       "211        4\n",
       "212        5\n",
       "213        4\n",
       "214        5\n",
       "215      NaN\n",
       "216        5\n",
       "217      NaN\n",
       "218      NaN\n",
       "219      NaN\n",
       "220      NaN\n",
       "221        5\n",
       "222        2\n",
       "223        1\n",
       "224      NaN\n",
       "225      NaN\n",
       "226        1\n",
       "227        5\n",
       "228        5\n",
       "229      NaN\n",
       "230      NaN\n",
       "231      NaN\n",
       "232        3\n",
       "233      NaN\n",
       "234        5\n",
       "235        5\n",
       "236        4\n",
       "237        4\n",
       "238      NaN\n",
       "239        5\n",
       "240        2\n",
       "241      NaN\n",
       "242      NaN\n",
       "243        2\n",
       "244        4\n",
       "245        5\n",
       "246      NaN\n",
       "247        5\n",
       "248        5\n",
       "249        4\n",
       "          ..\n",
       "133656     1\n",
       "133657   NaN\n",
       "133658     5\n",
       "133659     5\n",
       "133660     5\n",
       "133661   NaN\n",
       "133662   NaN\n",
       "133663   NaN\n",
       "133664   NaN\n",
       "133665     5\n",
       "133666   NaN\n",
       "133667     5\n",
       "133668     5\n",
       "133669     4\n",
       "133670   NaN\n",
       "133671   NaN\n",
       "133672     5\n",
       "133673   NaN\n",
       "133674     5\n",
       "133675     5\n",
       "133676     5\n",
       "133677   NaN\n",
       "133678   NaN\n",
       "133679   NaN\n",
       "133680     5\n",
       "133681   NaN\n",
       "133682   NaN\n",
       "133683   NaN\n",
       "133684   NaN\n",
       "133685     5\n",
       "133686     4\n",
       "133687   NaN\n",
       "133688     4\n",
       "133689     1\n",
       "133690   NaN\n",
       "133691     5\n",
       "133692     5\n",
       "133693     5\n",
       "133694     5\n",
       "133695   NaN\n",
       "133696     5\n",
       "133697   NaN\n",
       "133698   NaN\n",
       "133699     4\n",
       "133700   NaN\n",
       "133701   NaN\n",
       "133702     3\n",
       "133703     4\n",
       "133704   NaN\n",
       "133705   NaN\n",
       "133706     5\n",
       "133707     4\n",
       "133708   NaN\n",
       "133709   NaN\n",
       "133710   NaN\n",
       "133711   NaN\n",
       "133712   NaN\n",
       "133713   NaN\n",
       "133714     5\n",
       "133715     5\n",
       "133716     1\n",
       "133717     4\n",
       "133718   NaN\n",
       "133719   NaN\n",
       "133720   NaN\n",
       "133721   NaN\n",
       "133722     3\n",
       "133723     4\n",
       "133724   NaN\n",
       "133725   NaN\n",
       "133726     5\n",
       "133727     4\n",
       "133728     5\n",
       "133729   NaN\n",
       "133730   NaN\n",
       "133731   NaN\n",
       "133732   NaN\n",
       "133733     5\n",
       "133734     5\n",
       "133735   NaN\n",
       "133736   NaN\n",
       "133737   NaN\n",
       "133738   NaN\n",
       "133739     5\n",
       "133740     2\n",
       "133741   NaN\n",
       "133742   NaN\n",
       "133743     5\n",
       "133744     4\n",
       "133745     5\n",
       "133746   NaN\n",
       "133747   NaN\n",
       "133748   NaN\n",
       "133749   NaN\n",
       "133750   NaN\n",
       "133751     2\n",
       "133752     5\n",
       "133753     1\n",
       "133754   NaN\n",
       "133755   NaN\n",
       "133756   NaN\n",
       "133757     2\n",
       "133758   NaN\n",
       "133759   NaN\n",
       "133760   NaN\n",
       "133761     5\n",
       "133762     4\n",
       "133763   NaN\n",
       "133764   NaN\n",
       "133765   NaN\n",
       "133766     4\n",
       "133767     5\n",
       "133768   NaN\n",
       "133769     5\n",
       "133770     4\n",
       "133771   NaN\n",
       "133772   NaN\n",
       "133773     2\n",
       "133774     5\n",
       "133775     4\n",
       "133776     5\n",
       "133777   NaN\n",
       "133778     5\n",
       "133779   NaN\n",
       "133780     3\n",
       "133781   NaN\n",
       "133782     5\n",
       "133783     5\n",
       "133784   NaN\n",
       "133785     4\n",
       "133786   NaN\n",
       "133787     5\n",
       "133788   NaN\n",
       "133789     5\n",
       "133790     5\n",
       "133791     5\n",
       "133792     5\n",
       "133793   NaN\n",
       "133794   NaN\n",
       "133795     5\n",
       "133796     5\n",
       "133797     5\n",
       "133798     5\n",
       "133799     5\n",
       "133800   NaN\n",
       "133801     5\n",
       "133802     5\n",
       "133803     4\n",
       "133804   NaN\n",
       "133805     5\n",
       "133806     5\n",
       "133807     5\n",
       "133808   NaN\n",
       "133809   NaN\n",
       "133810     4\n",
       "133811     2\n",
       "133812     5\n",
       "133813   NaN\n",
       "133814   NaN\n",
       "133815     5\n",
       "133816   NaN\n",
       "133817   NaN\n",
       "133818   NaN\n",
       "133819   NaN\n",
       "133820     3\n",
       "133821   NaN\n",
       "133822   NaN\n",
       "133823     4\n",
       "133824     5\n",
       "133825   NaN\n",
       "133826   NaN\n",
       "133827     4\n",
       "133828     5\n",
       "133829   NaN\n",
       "133830   NaN\n",
       "133831     5\n",
       "133832     4\n",
       "133833   NaN\n",
       "133834     3\n",
       "133835   NaN\n",
       "133836   NaN\n",
       "133837     4\n",
       "133838     3\n",
       "133839   NaN\n",
       "133840     3\n",
       "133841     3\n",
       "133842   NaN\n",
       "133843   NaN\n",
       "133844   NaN\n",
       "133845     4\n",
       "133846   NaN\n",
       "133847   NaN\n",
       "133848   NaN\n",
       "133849   NaN\n",
       "133850     5\n",
       "133851     5\n",
       "133852     4\n",
       "133853     5\n",
       "133854   NaN\n",
       "133855   NaN\n",
       "133856   NaN\n",
       "133857     4\n",
       "133858     5\n",
       "133859   NaN\n",
       "133860   NaN\n",
       "133861     5\n",
       "133862   NaN\n",
       "133863   NaN\n",
       "133864   NaN\n",
       "133865   NaN\n",
       "133866   NaN\n",
       "133867     4\n",
       "133868     2\n",
       "133869     5\n",
       "133870     5\n",
       "133871   NaN\n",
       "133872   NaN\n",
       "133873     5\n",
       "133874     4\n",
       "133875   NaN\n",
       "133876     5\n",
       "133877     5\n",
       "133878     5\n",
       "133879     5\n",
       "133880     5\n",
       "133881   NaN\n",
       "133882   NaN\n",
       "133883   NaN\n",
       "133884     5\n",
       "133885   NaN\n",
       "133886     5\n",
       "133887   NaN\n",
       "133888   NaN\n",
       "133889     5\n",
       "133890     4\n",
       "133891     3\n",
       "133892     2\n",
       "133893     5\n",
       "133894     4\n",
       "133895     3\n",
       "133896     5\n",
       "133897     1\n",
       "133898     5\n",
       "133899     5\n",
       "133900     3\n",
       "133901   NaN\n",
       "133902     4\n",
       "133903     3\n",
       "133904     3\n",
       "133905     5\n",
       "Name: y, dtype: float64"
      ]
     },
     "execution_count": 17,
     "metadata": {},
     "output_type": "execute_result"
    }
   ],
   "source": [
    "Z.y"
   ]
  },
  {
   "cell_type": "code",
   "execution_count": 18,
   "metadata": {
    "collapsed": true
   },
   "outputs": [],
   "source": [
    "train_sels = ~isnan(Z.y)\n",
    "test_sels = isnan(Z.y)\n",
    "\n",
    "train_inds = find(train_sels)\n",
    "test_inds = find(test_sels)\n",
    "\n",
    "del train_sels, test_sels"
   ]
  },
  {
   "cell_type": "code",
   "execution_count": 19,
   "metadata": {
    "collapsed": true
   },
   "outputs": [],
   "source": [
    "corpus = Z.text\n",
    "\n",
    "from sklearn.feature_extraction.text import TfidfVectorizer\n",
    "vectorizer = TfidfVectorizer(min_df=1)\n",
    "X = vectorizer.fit_transform(corpus)\n",
    "\n",
    "Y=Z.y.values"
   ]
  },
  {
   "cell_type": "code",
   "execution_count": 20,
   "metadata": {
    "collapsed": false
   },
   "outputs": [
    {
     "data": {
      "text/plain": [
       "(133906, 133906)"
      ]
     },
     "execution_count": 20,
     "metadata": {},
     "output_type": "execute_result"
    }
   ],
   "source": [
    "X.shape[0], len(Y)"
   ]
  },
  {
   "cell_type": "code",
   "execution_count": 21,
   "metadata": {
    "collapsed": true
   },
   "outputs": [],
   "source": [
    "import sklearn\n",
    "from sklearn import svm"
   ]
  },
  {
   "cell_type": "code",
   "execution_count": 23,
   "metadata": {
    "collapsed": false
   },
   "outputs": [
    {
     "data": {
      "text/plain": [
       "GridSearchCV(cv=None, error_score='raise',\n",
       "       estimator=LinearSVC(C=1.0, class_weight=None, dual=True, fit_intercept=True,\n",
       "     intercept_scaling=1, loss='squared_hinge', max_iter=1000,\n",
       "     multi_class='ovr', penalty='l2', random_state=None, tol=0.0001,\n",
       "     verbose=0),\n",
       "       fit_params={}, iid=True, n_jobs=-1,\n",
       "       param_grid={'C': [0.1, 1, 10, 100]}, pre_dispatch='2*n_jobs',\n",
       "       refit=True, return_train_score=True, scoring=None, verbose=0)"
      ]
     },
     "execution_count": 23,
     "metadata": {},
     "output_type": "execute_result"
    }
   ],
   "source": [
    "param_grid = {'C': [0.1, 1, 10, 100]}\n",
    "\n",
    "clf = sklearn.model_selection.GridSearchCV(sklearn.svm.LinearSVC() ,param_grid, n_jobs=-1) # use n_jobs=1 here if have insufficient memory\n",
    "clf.fit(X[train_inds], Y[train_inds])"
   ]
  },
  {
   "cell_type": "code",
   "execution_count": 42,
   "metadata": {
    "collapsed": false
   },
   "outputs": [
    {
     "data": {
      "text/plain": [
       "{'C': 1}"
      ]
     },
     "execution_count": 42,
     "metadata": {},
     "output_type": "execute_result"
    }
   ],
   "source": [
    "clf.best_params_"
   ]
  },
  {
   "cell_type": "code",
   "execution_count": 25,
   "metadata": {
    "collapsed": false
   },
   "outputs": [],
   "source": [
    "Y_hat = clf.predict(X[test_inds])"
   ]
  },
  {
   "cell_type": "code",
   "execution_count": 30,
   "metadata": {
    "collapsed": false
   },
   "outputs": [
    {
     "data": {
      "text/plain": [
       "(66953, 2)"
      ]
     },
     "execution_count": 30,
     "metadata": {},
     "output_type": "execute_result"
    }
   ],
   "source": [
    "content = concatenate([Z.id[test_inds].values[:,newaxis], Y_hat[:,newaxis]],axis=1)\n",
    "content.shape"
   ]
  },
  {
   "cell_type": "code",
   "execution_count": 38,
   "metadata": {
    "collapsed": false
   },
   "outputs": [],
   "source": [
    "solution = pd.DataFrame( content, columns = ['ReviewId', 'Score'], dtype=int)"
   ]
  },
  {
   "cell_type": "code",
   "execution_count": 39,
   "metadata": {
    "collapsed": false
   },
   "outputs": [
    {
     "data": {
      "text/html": [
       "<div>\n",
       "<table border=\"1\" class=\"dataframe\">\n",
       "  <thead>\n",
       "    <tr style=\"text-align: right;\">\n",
       "      <th></th>\n",
       "      <th>ReviewId</th>\n",
       "      <th>Score</th>\n",
       "    </tr>\n",
       "  </thead>\n",
       "  <tbody>\n",
       "    <tr>\n",
       "      <th>0</th>\n",
       "      <td>71082</td>\n",
       "      <td>5</td>\n",
       "    </tr>\n",
       "    <tr>\n",
       "      <th>1</th>\n",
       "      <td>25176</td>\n",
       "      <td>4</td>\n",
       "    </tr>\n",
       "    <tr>\n",
       "      <th>2</th>\n",
       "      <td>30696</td>\n",
       "      <td>4</td>\n",
       "    </tr>\n",
       "    <tr>\n",
       "      <th>3</th>\n",
       "      <td>65695</td>\n",
       "      <td>5</td>\n",
       "    </tr>\n",
       "    <tr>\n",
       "      <th>4</th>\n",
       "      <td>63563</td>\n",
       "      <td>5</td>\n",
       "    </tr>\n",
       "  </tbody>\n",
       "</table>\n",
       "</div>"
      ],
      "text/plain": [
       "   ReviewId  Score\n",
       "0     71082      5\n",
       "1     25176      4\n",
       "2     30696      4\n",
       "3     65695      5\n",
       "4     63563      5"
      ]
     },
     "execution_count": 39,
     "metadata": {},
     "output_type": "execute_result"
    }
   ],
   "source": [
    "solution.head()"
   ]
  },
  {
   "cell_type": "code",
   "execution_count": 41,
   "metadata": {
    "collapsed": false
   },
   "outputs": [],
   "source": [
    "solution.to_csv('baseline solution.csv',index=False)"
   ]
  }
 ],
 "metadata": {
  "anaconda-cloud": {},
  "kernelspec": {
   "display_name": "Python [default]",
   "language": "python",
   "name": "python3"
  },
  "language_info": {
   "codemirror_mode": {
    "name": "ipython",
    "version": 3
   },
   "file_extension": ".py",
   "mimetype": "text/x-python",
   "name": "python",
   "nbconvert_exporter": "python",
   "pygments_lexer": "ipython3",
   "version": "3.5.2"
  }
 },
 "nbformat": 4,
 "nbformat_minor": 0
}
