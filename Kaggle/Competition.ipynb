{
 "cells": [
  {
   "cell_type": "markdown",
   "metadata": {},
   "source": [
    "# Practice №11\n",
    "## by Anton Kondrashov\n",
    "##### HSE, CS, BSE 141(1)"
   ]
  },
  {
   "cell_type": "markdown",
   "metadata": {},
   "source": [
    "### Dependencies"
   ]
  },
  {
   "cell_type": "code",
   "execution_count": 79,
   "metadata": {
    "collapsed": false
   },
   "outputs": [
    {
     "name": "stdout",
     "output_type": "stream",
     "text": [
      "The line_profiler extension is already loaded. To reload it, use:\n",
      "  %reload_ext line_profiler\n",
      "The autoreload extension is already loaded. To reload it, use:\n",
      "  %reload_ext autoreload\n"
     ]
    }
   ],
   "source": [
    "%precision 6\n",
    "%load_ext line_profiler\n",
    "%load_ext autoreload\n",
    "%autoreload 1\n",
    "\n",
    "import sklearn\n",
    "import pandas as pd\n",
    "import numpy as np\n",
    "import codecs\n",
    "import json\n",
    "import re\n",
    "from sklearn.feature_extraction.text import TfidfVectorizer\n",
    "from sklearn.ensemble import RandomForestRegressor\n",
    "from sklearn import preprocessing\n",
    "\n",
    "pd.options.display.max_colwidth=100\n",
    "np.set_printoptions(linewidth=140,edgeitems=10)\n",
    "pd.set_option('display.max_rows', 500)\n",
    "pd.set_option('display.max_columns', 500)\n",
    "pd.set_option('display.width', 1000)"
   ]
  },
  {
   "cell_type": "markdown",
   "metadata": {},
   "source": [
    "### Datasets"
   ]
  },
  {
   "cell_type": "code",
   "execution_count": 80,
   "metadata": {
    "collapsed": false
   },
   "outputs": [],
   "source": [
    "def unpack_dataset(path, to=None):\n",
    "    dicts = []\n",
    "    \n",
    "    if to is not None:\n",
    "        dicts = list(to.to_dict().values())\n",
    "        \n",
    "    with open(path) as f:\n",
    "        for line in f:\n",
    "            single_dict = eval(line)\n",
    "            dicts.append(single_dict)\n",
    "    \n",
    "    return pd.DataFrame(dicts)\n",
    "\n",
    "def labelize(column_name, dataset):\n",
    "    le = preprocessing.LabelEncoder()\n",
    "    le.fit(dataset[column_name])\n",
    "    dataset[column_name] = le.transform(dataset[column_name])\n",
    "    \n",
    "def process_runtime(time):\n",
    "    if re.findall(\"\\d*\", time)[0] == '':\n",
    "        return 0 \n",
    "    else:\n",
    "        return int(re.findall(\"\\d*\", time)[0])\n",
    "\n",
    "# def replace_dates(dataset):\n",
    "#     extension_set = pd.DataFrame(columns=['year', 'month', 'day'])\n",
    "#     date['time'].apply(lambda x: x[:3])"
   ]
  },
  {
   "cell_type": "code",
   "execution_count": 81,
   "metadata": {
    "collapsed": false,
    "scrolled": false
   },
   "outputs": [],
   "source": [
    "main_path = '/Users/kondranton/Desktop/Datasets'\n",
    "movie_descriptions = unpack_dataset(main_path + '/movie_descriptions.txt')\n",
    "\n",
    "feedbacks = []\n",
    "with open(main_path + '/train_feedback.txt') as f:\n",
    "        for line in f:\n",
    "            feedback = eval(line)\n",
    "            feedbacks.append(feedback)"
   ]
  },
  {
   "cell_type": "code",
   "execution_count": 82,
   "metadata": {
    "collapsed": true
   },
   "outputs": [],
   "source": [
    "with open(main_path + '/test_feedback.txt') as f:\n",
    "        for line in f:\n",
    "            feedback = eval(line)\n",
    "            feedbacks.append(feedback)"
   ]
  },
  {
   "cell_type": "code",
   "execution_count": 83,
   "metadata": {
    "collapsed": true
   },
   "outputs": [],
   "source": [
    "feedbacks = pd.DataFrame(feedbacks)"
   ]
  },
  {
   "cell_type": "markdown",
   "metadata": {},
   "source": [
    "### Preprocessing"
   ]
  },
  {
   "cell_type": "code",
   "execution_count": 84,
   "metadata": {
    "collapsed": false
   },
   "outputs": [],
   "source": [
    "# desc\n",
    "movie_descriptions['runtime'] = movie_descriptions['runtime'].apply(process_runtime)\n",
    "labelize('rated', movie_descriptions)\n",
    "labelize('type', movie_descriptions)\n",
    "labelize('genre', movie_descriptions)\n",
    "labelize('language', movie_descriptions)\n",
    "labelize('time', feedbacks)"
   ]
  },
  {
   "cell_type": "code",
   "execution_count": 38,
   "metadata": {
    "collapsed": false
   },
   "outputs": [],
   "source": [
    "user_avarage_scores = {}\n",
    "\n",
    "for user_id in feedbacks['UserId'].unique():\n",
    "    user_feedbacks = feedbacks.loc[feedbacks['UserId'] == user_id]\n",
    "    avarage_score = sum(list(user_feedbacks['score'].values)) / len(user_feedbacks['score'])\n",
    "    user_avarage_scores[user_id] = int(round(avarage_score))\n",
    "\n",
    "feedbacks['score'] = feedbacks[['UserId', 'score']].apply(lambda row: row['score'] - user_avarage_scores[row['UserId']], axis=1)"
   ]
  },
  {
   "cell_type": "code",
   "execution_count": 85,
   "metadata": {
    "collapsed": false
   },
   "outputs": [],
   "source": [
    "Z=pd.merge(feedbacks,movie_descriptions,on='MovieId')"
   ]
  },
  {
   "cell_type": "code",
   "execution_count": 86,
   "metadata": {
    "collapsed": false
   },
   "outputs": [],
   "source": [
    "np.random.seed(0)\n",
    "Z = Z.sample(frac=1.0).reset_index(drop=True)"
   ]
  },
  {
   "cell_type": "code",
   "execution_count": 87,
   "metadata": {
    "collapsed": true
   },
   "outputs": [],
   "source": [
    "Z.rename(columns={'score':'y'}, inplace=True)"
   ]
  },
  {
   "cell_type": "code",
   "execution_count": 88,
   "metadata": {
    "collapsed": true
   },
   "outputs": [],
   "source": [
    "corpus = Z.text #+ Z.synopsis + Z.writer + Z.summary + Z.director"
   ]
  },
  {
   "cell_type": "code",
   "execution_count": 89,
   "metadata": {
    "collapsed": true
   },
   "outputs": [],
   "source": [
    "vectorizer = TfidfVectorizer(min_df=1, stop_words='english')\n",
    "X = vectorizer.fit_transform(corpus)\n",
    "Y=Z.y.values"
   ]
  },
  {
   "cell_type": "code",
   "execution_count": 91,
   "metadata": {
    "collapsed": false
   },
   "outputs": [],
   "source": [
    "from sklearn.feature_extraction import DictVectorizer\n",
    "v = DictVectorizer(sparse=True)\n",
    "X1 = v.fit_transform(Z[['UserId', 'rated', 'runtime', 'year']].to_dict(orient='records'))"
   ]
  },
  {
   "cell_type": "code",
   "execution_count": 92,
   "metadata": {
    "collapsed": false
   },
   "outputs": [],
   "source": [
    "from scipy.sparse import hstack\n",
    "X = hstack([X1, X])#.toarray()"
   ]
  },
  {
   "cell_type": "code",
   "execution_count": 93,
   "metadata": {
    "collapsed": false
   },
   "outputs": [],
   "source": [
    "from sklearn.preprocessing import StandardScaler\n",
    "\n",
    "scaler = StandardScaler(with_mean=False)\n",
    "X = scaler.fit_transform(X)"
   ]
  },
  {
   "cell_type": "code",
   "execution_count": 47,
   "metadata": {
    "collapsed": false
   },
   "outputs": [],
   "source": [
    "np.random.seed(0)\n",
    "index = np.arange(len(Z))\n",
    "mask = index < 0.6 * len(Z)"
   ]
  },
  {
   "cell_type": "code",
   "execution_count": 48,
   "metadata": {
    "collapsed": false
   },
   "outputs": [],
   "source": [
    "Xtr = X.tocsr()[mask]\n",
    "Ytr = Y[mask]\n",
    "Xte = X.tocsr()[~mask]\n",
    "Yte = Y[~mask]"
   ]
  },
  {
   "cell_type": "code",
   "execution_count": 94,
   "metadata": {
    "collapsed": false
   },
   "outputs": [],
   "source": [
    "train_sels = ~np.isnan(Z.y)\n",
    "test_sels = np.isnan(Z.y)\n",
    "\n",
    "train_inds = np.where(train_sels)\n",
    "test_inds = np.where(test_sels)\n",
    "\n",
    "del train_sels, test_sels"
   ]
  },
  {
   "cell_type": "code",
   "execution_count": null,
   "metadata": {
    "collapsed": false
   },
   "outputs": [],
   "source": [
    "from sklearn.linear_model import RidgeClassifierCV\n",
    "from sklearn.svm import LinearSVC\n",
    "from sklearn.model_selection import GridSearchCV\n",
    "\n",
    "# clf = LinearSVC(C=1)\n",
    "clf = LogisticRegressionCV(multi_class='ovr')\n",
    "clf.fit(X[train_inds], Y[train_inds])\n",
    "# clf.fit(Xtr,Ytr)"
   ]
  },
  {
   "cell_type": "code",
   "execution_count": null,
   "metadata": {
    "collapsed": false
   },
   "outputs": [],
   "source": [
    "clf.best_params_"
   ]
  },
  {
   "cell_type": "code",
   "execution_count": null,
   "metadata": {
    "collapsed": false
   },
   "outputs": [],
   "source": [
    "Y_hat = clf.predict(Xte)"
   ]
  },
  {
   "cell_type": "code",
   "execution_count": null,
   "metadata": {
    "collapsed": false
   },
   "outputs": [],
   "source": [
    "Ytr"
   ]
  },
  {
   "cell_type": "code",
   "execution_count": null,
   "metadata": {
    "collapsed": false
   },
   "outputs": [],
   "source": [
    "Yte"
   ]
  },
  {
   "cell_type": "code",
   "execution_count": null,
   "metadata": {
    "collapsed": false
   },
   "outputs": [],
   "source": [
    "def rmse(predictions, targets):\n",
    "    return np.sqrt(((predictions - targets) ** 2).mean())\n",
    "\n",
    "rmse(Y_hat, Yte)"
   ]
  },
  {
   "cell_type": "code",
   "execution_count": null,
   "metadata": {
    "collapsed": false
   },
   "outputs": [],
   "source": [
    "#output\n",
    "Y_hat = clf.predict(X[test_inds])\n",
    "content = pd.concat([pd.DataFrame(Z.id.values[test_inds]), pd.DataFrame(Y_hat)], axis=1)\n",
    "content.columns = ['ReviewId', 'Score']\n",
    "solution = pd.DataFrame(content, dtype=int)\n",
    "solution.to_csv(main_path + '/solution.csv',index=False)"
   ]
  },
  {
   "cell_type": "code",
   "execution_count": null,
   "metadata": {
    "collapsed": true
   },
   "outputs": [],
   "source": [
    "param_grid = {'C': [0.1, 0.03, 1, 3, 5, 7]}\n",
    "clf = sklearn.model_selection.GridSearchCV(sklearn.svm.LinearSVC(),param_grid, n_jobs=-1)\n",
    "# clf.fit(X[train_inds], Y[train_inds])\n",
    "clf.fit(X,Y)"
   ]
  },
  {
   "cell_type": "code",
   "execution_count": null,
   "metadata": {
    "collapsed": true
   },
   "outputs": [],
   "source": []
  }
 ],
 "metadata": {
  "anaconda-cloud": {},
  "kernelspec": {
   "display_name": "Python [default]",
   "language": "python",
   "name": "python3"
  },
  "language_info": {
   "codemirror_mode": {
    "name": "ipython",
    "version": 3
   },
   "file_extension": ".py",
   "mimetype": "text/x-python",
   "name": "python",
   "nbconvert_exporter": "python",
   "pygments_lexer": "ipython3",
   "version": "3.5.2"
  }
 },
 "nbformat": 4,
 "nbformat_minor": 1
}
